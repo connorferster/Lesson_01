{
 "cells": [
  {
   "cell_type": "code",
   "execution_count": null,
   "id": "46f084e1-e324-4f0b-8451-478685171a01",
   "metadata": {},
   "outputs": [],
   "source": [
    "pip install sympy shapely sectionproperties handcalcs forallpeople plotly pyautogui pytest ipytest pint comtypes"
   ]
  },
  {
   "cell_type": "markdown",
   "id": "a5f03817-a880-4329-b366-5f6ad6a9c8d9",
   "metadata": {},
   "source": [
    "## Create a \"run all\" keyboard shortcut\n",
    "\n",
    "* Select and copy the JSON data below.\n",
    "* Click \"Settings\" in the menu bar and go down to `Advanced Settings Editor`\n",
    "* Click \"Keyboard Shortcuts\"\n",
    "* Paste the JSON data into the \"User Preferences\" window\n"
   ]
  },
  {
   "cell_type": "markdown",
   "id": "4fe00084-9428-4a44-ba63-32c73629165f",
   "metadata": {},
   "source": [
    "```json\n",
    "{\"shortcuts\": \n",
    "    [\n",
    "        {\n",
    "            \"command\": \"notebook:run-all-cells\",\n",
    "            \"keys\": [\"Alt R\"],\n",
    "            \"selector\": \"body\",\n",
    "            \"disabled\": false,\n",
    "        }\n",
    "    ]\n",
    "}\n",
    "```"
   ]
  },
  {
   "cell_type": "code",
   "execution_count": null,
   "id": "05469137-b27d-4a38-b5b0-4ee7a53b3fb6",
   "metadata": {},
   "outputs": [],
   "source": []
  }
 ],
 "metadata": {
  "kernelspec": {
   "display_name": "Python 3 (ipykernel)",
   "language": "python",
   "name": "python3"
  },
  "language_info": {
   "codemirror_mode": {
    "name": "ipython",
    "version": 3
   },
   "file_extension": ".py",
   "mimetype": "text/x-python",
   "name": "python",
   "nbconvert_exporter": "python",
   "pygments_lexer": "ipython3",
   "version": "3.9.7"
  }
 },
 "nbformat": 4,
 "nbformat_minor": 5
}
