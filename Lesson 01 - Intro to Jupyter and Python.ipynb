{
 "cells": [
  {
   "cell_type": "markdown",
   "metadata": {},
   "source": [
    "## Using Jupyter Notebooks"
   ]
  },
  {
   "cell_type": "code",
   "execution_count": 1,
   "metadata": {},
   "outputs": [],
   "source": [
    "import python_hype as hype"
   ]
  },
  {
   "cell_type": "code",
   "execution_count": 2,
   "metadata": {},
   "outputs": [
    {
     "data": {
      "text/markdown": [
       "\n",
       "    **Everything** in a Jupyter Notebook is a __cell__ (including this text, which is called a \"Markdown\" cell)\n",
       "\n",
       "When in \"Command Mode\" (blue outline):\n",
       "\n",
       "* Type `a` to add a cell *above*\n",
       "* Type `b` to add a cell *below*\n",
       "* Type `dd` to *delete* a cell\n",
       "* Type `c` to *copy* a cell\n",
       "* TYpe `x` to *cut* a cell\n",
       "* Type `v` to *paste* a cell\n",
       "* Type `z` to *undo* a Command Mode operation\n",
       "* Type `[Enter]` to go from \"Command Mode\" to \"Edit Mode\"\n",
       "\n",
       "When in \"Edit Mode\" (green outline):\n",
       "* Type `[Esc]` to go from \"Edit Mode\" to \"Command Mode\"\n",
       "* Type `[Shift]+[Enter]` to **Run** your cell and then advance\n",
       "* Type `[Ctrl]+[Enter]` to **Run** your cell and stay on the cell\n",
       "\n",
       "At any time, type `Ctrl-s` to save (either in Edit or Command Mode, does not matter).\n",
       "\n",
       "However, Jupyter also has a convenient auto-save.\n",
       "    "
      ],
      "text/plain": [
       "<IPython.core.display.Markdown object>"
      ]
     },
     "execution_count": 2,
     "metadata": {},
     "output_type": "execute_result"
    }
   ],
   "source": [
    "hype.shortcuts()"
   ]
  },
  {
   "cell_type": "code",
   "execution_count": null,
   "metadata": {},
   "outputs": [],
   "source": []
  },
  {
   "cell_type": "markdown",
   "metadata": {},
   "source": [
    "**Everything** in a Jupyter Notebook is a __cell__ (including this text, which is called a \"Markdown\" cell)\n",
    "\n",
    "When in \"Command Mode\" (blue outline):\n",
    "\n",
    "* Type `a` to add a cell *above*\n",
    "* Type `b` to add a cell *below*\n",
    "* Type `dd` to *delete* a cell\n",
    "* Type `c` to *copy* a cell\n",
    "* TYpe `x` to *cut* a cell\n",
    "* Type `v` to *paste* a cell\n",
    "* Type `z` to *undo* a Command Mode operation\n",
    "* Type `[Enter]` to go from \"Command Mode\" to \"Edit Mode\"\n",
    "\n",
    "When in \"Edit Mode\" (green outline):\n",
    "* Type `[Esc]` to go from \"Edit Mode\" to \"Command Mode\"\n",
    "* Type `[Shift]+[Enter]` to **Run** your cell and then advance\n",
    "* Type `[Ctrl]+[Enter]` to **Run** your cell and stay on the cell\n",
    "\n",
    "At any time, type `Ctrl-s` to save (either in Edit or Command Mode, does not matter).\n",
    "\n",
    "However, Jupyter also has a convenient auto-save."
   ]
  },
  {
   "cell_type": "code",
   "execution_count": null,
   "metadata": {},
   "outputs": [],
   "source": []
  },
  {
   "cell_type": "code",
   "execution_count": 36,
   "metadata": {},
   "outputs": [
    {
     "data": {
      "text/plain": [
       "'Python cells are the default cell type'"
      ]
     },
     "execution_count": 36,
     "metadata": {},
     "output_type": "execute_result"
    }
   ],
   "source": [
    "\"Python cells are the default cell type\""
   ]
  },
  {
   "cell_type": "code",
   "execution_count": 37,
   "metadata": {},
   "outputs": [],
   "source": [
    "# This is a comment in a Python cell (note the \"#\" at the beginning of the line)\n",
    "# Python comments are not \"run\" at all\n",
    "# It's like running an empty cell"
   ]
  },
  {
   "cell_type": "code",
   "execution_count": 38,
   "metadata": {},
   "outputs": [
    {
     "data": {
      "text/plain": [
       "29"
      ]
     },
     "execution_count": 38,
     "metadata": {},
     "output_type": "execute_result"
    }
   ],
   "source": [
    "# You can use a Python cell like a calculator\n",
    "# Kind of like in Excel\n",
    "2 + 3*(2+7)"
   ]
  },
  {
   "cell_type": "code",
   "execution_count": 17,
   "metadata": {},
   "outputs": [],
   "source": [
    "# In a cell you can assign a value to a variable and ask Python to just show you what's in the variable\n",
    "a = \"cat\"\n",
    "b = \"hat\""
   ]
  },
  {
   "cell_type": "code",
   "execution_count": null,
   "metadata": {},
   "outputs": [],
   "source": [
    "b"
   ]
  },
  {
   "cell_type": "markdown",
   "metadata": {},
   "source": [
    "When you run code in another cell, it will enter into memory. So you can call things you previously defined in other cells.\n",
    "\n",
    "(Note, this nicely written text is another \"Markdown\" cell. Markdown cells do not have numbers beside them.)"
   ]
  },
  {
   "cell_type": "code",
   "execution_count": null,
   "metadata": {},
   "outputs": [],
   "source": [
    "a\n",
    "b\n",
    "#b # Note, Jupyter will only show you the last one, if you want to see both, use the `print()` function"
   ]
  },
  {
   "cell_type": "code",
   "execution_count": null,
   "metadata": {},
   "outputs": [],
   "source": [
    "# Using the print function, you can show both variable values, in sequence\n",
    "\n",
    "print(a)\n",
    "print(b)"
   ]
  },
  {
   "cell_type": "code",
   "execution_count": null,
   "metadata": {},
   "outputs": [],
   "source": []
  },
  {
   "cell_type": "markdown",
   "metadata": {},
   "source": [
    "# Calling a Function\n",
    "\n",
    "In Python, you _call_ a function by typing the name of the function followed by `(...)`. In between the parentheses are the function arguments. Any given function may take zero, one, or more arguments.\n",
    "\n",
    "Soon, you will be writing your own functions and defining your own function arguments but in this first lesson, you will be calling functions already defined so you can start \"using Python\" directly."
   ]
  },
  {
   "cell_type": "code",
   "execution_count": 2,
   "metadata": {},
   "outputs": [],
   "source": [
    "import winsound"
   ]
  },
  {
   "cell_type": "markdown",
   "metadata": {},
   "source": [
    "# Python is often called a \"batteries included\" language\n",
    "...because it comes with a whole lot of functions that allow you to interact with your computer immediately.\n",
    "\n",
    "One of the modules that comes with Python is called `winsound`, which allows you to play sounds on a Windows computer\n",
    "\n",
    "Since we have \"imported\" `winsound` in the cell above, we can use the functions that come with it"
   ]
  },
  {
   "cell_type": "code",
   "execution_count": 10,
   "metadata": {},
   "outputs": [
    {
     "name": "stdout",
     "output_type": "stream",
     "text": [
      "Beep!\n",
      "Long beep!\n"
     ]
    }
   ],
   "source": [
    "winsound.Beep(1000, 500)\n",
    "print(\"Beep!\")\n",
    "winsound.Beep(2000, 1000)\n",
    "print(\"Long beep!\")"
   ]
  },
  {
   "cell_type": "markdown",
   "metadata": {},
   "source": [
    "## We are going to start by using functions to make pictures\n",
    "\n",
    "To start, we are going to install a *new Python package* from the internet!\n",
    "\n",
    "The package is called `cs103`.\n",
    "\n",
    "Type in a new cell, then run, the following:\n",
    "\n",
    "```\n",
    "pip install cs103\n",
    "```\n"
   ]
  },
  {
   "cell_type": "code",
   "execution_count": 43,
   "metadata": {},
   "outputs": [],
   "source": [
    "\n",
    "\n",
    "# My first TypeError\n",
    "\n",
    "#cs.circle('outline', 'red') <- This is missing the first argument: it needs radius, mode, and color\n",
    "\n",
    "# My first fix\n",
    "#cs.circle(345, 'outline', 'red')"
   ]
  },
  {
   "cell_type": "code",
   "execution_count": 44,
   "metadata": {},
   "outputs": [],
   "source": [
    "# My first TypeError\n",
    "\n",
    "#cs.circle('outline', 'red') <- This is missing the first argument: it needs radius, mode, and color\n",
    "\n",
    "# My first fix\n",
    "#cs.circle(345, 'outline', 'red')"
   ]
  },
  {
   "cell_type": "code",
   "execution_count": null,
   "metadata": {},
   "outputs": [],
   "source": [
    "# My first ValueError\n",
    "\n",
    "#cs.circle(48, 'blue', 'solid') <- These are in the wrong order; use help(cs.circle) to check\n",
    "\n",
    "# My second fix\n",
    "#cs.circle(48, 'solid', 'blue')"
   ]
  }
 ],
 "metadata": {
  "kernelspec": {
   "display_name": "Python 3",
   "language": "python",
   "name": "python3"
  },
  "language_info": {
   "codemirror_mode": {
    "name": "ipython",
    "version": 3
   },
   "file_extension": ".py",
   "mimetype": "text/x-python",
   "name": "python",
   "nbconvert_exporter": "python",
   "pygments_lexer": "ipython3",
   "version": "3.7.7"
  }
 },
 "nbformat": 4,
 "nbformat_minor": 4
}
