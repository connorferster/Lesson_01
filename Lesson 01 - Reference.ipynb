{
 "cells": [
  {
   "cell_type": "markdown",
   "id": "abccd502-15a3-4eb5-905d-b9e0e615430b",
   "metadata": {},
   "source": [
    "# Lesson 01 - Python Reference"
   ]
  },
  {
   "attachments": {
    "3e40ae9d-aba0-4786-aa4a-cde20b1d82b7.png": {
     "image/png": "[encoded data removed]"
    },
    "73b03c21-1bb3-4a60-a4a0-2b11208b9a1a.png": {
     "image/png": "[encoded data removed]"
    }
   },
   "cell_type": "markdown",
   "id": "cea13660-16a8-4da1-a840-b5469224a523",
   "metadata": {},
   "source": [
    "## Using JupyterLab\n",
    "\n",
    "Jupyter lab is now the primary interface for using the Jupyter programming platform. It has _some_ buttons at the top of each notebook but it is much more effective to use keyboard shortcuts. \n",
    "\n",
    "To use these shortcuts, it's important to learn the difference between **Edit Mode** and **Command Mode**.\n",
    "\n",
    "Click into a cell. It should now look like this indicating your are in **Edit Mode**:\n",
    "![image.png](attachment:73b03c21-1bb3-4a60-a4a0-2b11208b9a1a.png)\n",
    "\n",
    "Click outside of a cell. It should now look like this indicating you are in **Command Mode**:\n",
    "![image.png](attachment:3e40ae9d-aba0-4786-aa4a-cde20b1d82b7.png)"
   ]
  },
  {
   "cell_type": "code",
   "execution_count": null,
   "id": "aabb04bc-ba39-43fb-abe3-2637013e6c02",
   "metadata": {},
   "outputs": [],
   "source": []
  },
  {
   "cell_type": "markdown",
   "id": "78eb7c27-12cd-4223-8cee-669baff84f4e",
   "metadata": {},
   "source": [
    "When you are in **Edit Mode**, there are three main shortcuts:\n",
    "* Type `[Esc]` to go from \"Edit Mode\" to \"Command Mode\"\n",
    "* Type `[Shift]+[Enter]` to **Run** your cell and then advance\n",
    "* Type `[Ctrl]+[Enter]` to **Run** your cell and stay on the cell\n",
    "\n",
    "When you are in **Command Mode**, there are more shortcuts. Helpful ones include:\n",
    "* Type `a` to add a cell *above*\n",
    "* Type `b` to add a cell *below*\n",
    "* Type `c` to *copy* a cell\n",
    "* TYpe `x` to *cut* a cell\n",
    "* Type `v` to *paste* a cell\n",
    "* Type `z` to *undo* a Command Mode operation (e.g. undo deleting a cell)\n",
    "* Type `[Enter]` to go from \"Command Mode\" to \"Edit Mode\"\n",
    "* Type `m` when a `code` cell is selected to change the cell to a _Markdown_ cell\n",
    "* Type `y` when a _Markdown_ cell is selected to change the cell to a `code` cell"
   ]
  },
  {
   "attachments": {
    "429526c1-0bb9-4a46-9560-f97ec3b5a388.png": {
     "image/png": "[encoded data removed]"
    },
    "59b4c365-f5c5-4a17-aa8c-c3bc0a3e4f5c.png": {
     "image/png": "[encoded data removed]"
    }
   },
   "cell_type": "markdown",
   "id": "09472483-90ca-42f4-91fa-3fb68e87b891",
   "metadata": {
    "tags": []
   },
   "source": [
    "## Two kinds of cells: Markdown and `Code`\n",
    "\n",
    "A `code` cell looks like this (notice the square brackets):\n",
    "\n",
    "![image.png](attachment:429526c1-0bb9-4a46-9560-f97ec3b5a388.png)\n",
    "\n",
    "A _Markdown_ cell looks like this (no square brackets):\n",
    "\n",
    "![image.png](attachment:59b4c365-f5c5-4a17-aa8c-c3bc0a3e4f5c.png)"
   ]
  },
  {
   "cell_type": "markdown",
   "id": "2f3da336-5c4b-4668-8484-7e6db05374df",
   "metadata": {},
   "source": [
    "## What is _Markdown_?\n",
    "\n",
    "Markdown is a mark-up language (like HTML: hypertext markup language) that allows you to write richly formatted text with plain text. In other words, it's a like a short-hand way of writing HTML.\n",
    "\n",
    "When you write it out, Markdown looks like this:\n",
    "\n",
    "```markdown\n",
    "This text is **bold**.\n",
    "This text is _italic_.\n",
    "\n",
    "These are bullet points:\n",
    "* Bullet one\n",
    "* Bullet two\n",
    "* Bullet three\n",
    "\n",
    "This is a numbered list:\n",
    "1. My main point\n",
    "2. My second point\n",
    "   1. My second sub-point\n",
    "   2. My other second sub-point\n",
    "3. My third point\n",
    "\n",
    "This is a link to [the Python docs](https://www.python.org).\n",
    "\n",
    "# This is a first level heading\n",
    "## This is a second level heading\n",
    "### This is a third level heading\n",
    "#### This is a fourth level heading\n",
    "##### This is a fifth level heading\n",
    "###### This is a sixth level heading\n",
    "```\n",
    "\n",
    "Select all of the example Markdown text above and copy/paste it into a Markdown cell below (type `m` when in command mode) then use `[Shift]-[Enter]` to run the cell and see the Markdown text get rendered. \n",
    "\n",
    "After you render it, **double-click** the Markdown cell to edit it again or press `[Enter]` when in **Command Mode** to go to Edit Mode."
   ]
  },
  {
   "cell_type": "code",
   "execution_count": null,
   "id": "5491cbc0-daa5-420a-aea2-f89f2ff7d335",
   "metadata": {},
   "outputs": [],
   "source": []
  },
  {
   "cell_type": "markdown",
   "id": "568f1bac-852e-4de4-a028-618697b25aa9",
   "metadata": {},
   "source": [
    "## Using Python in `code` cells\n",
    "\n",
    "### Math operators\n",
    "\n",
    "* `+` Addition\n",
    "* `-` Subtraction\n",
    "* `*` Multiplication\n",
    "* `/` True division\n",
    "* `**` Exponentiation\n",
    "* `//` Floor division (returns the \"whole\" part of the division operation, always an integer)\n",
    "* `%` Modulo (returns the \"remainder\" of the division operation)"
   ]
  },
  {
   "cell_type": "code",
   "execution_count": null,
   "id": "dc00ebb9-beb3-487b-bad3-046edd63cf9f",
   "metadata": {},
   "outputs": [],
   "source": []
  },
  {
   "cell_type": "markdown",
   "id": "556db019-5098-4e43-88bd-07c026794e5c",
   "metadata": {},
   "source": [
    "### Python variables\n",
    "\n",
    "Assign any value to a symbol by using the `=` sign.\n",
    "\n",
    "```python\n",
    "a = 32.3 # this value is called a 'float'\n",
    "b = \"cat\" # this value is called a 'string'\n",
    "c = 5 # this value is an integer\n",
    "animal_list = [\"cat\", \"bat\"] # this value is a 'list' of string\n",
    "```\n",
    "\n",
    "In this instance, `a`, `b`, `animal_list` are now _symbols_ which store the values that have been assigned to them using the _assignment operator_ (`=`).\n",
    "\n",
    "These symbols are now called _variables_ because the values assigned to these symbols can vary, can change."
   ]
  },
  {
   "cell_type": "code",
   "execution_count": null,
   "id": "52ee7ffb-6c30-4b37-85ed-5bdc2647cf7b",
   "metadata": {},
   "outputs": [],
   "source": []
  },
  {
   "cell_type": "markdown",
   "id": "dbb82ead-2094-4eed-94e9-808a097e3570",
   "metadata": {},
   "source": [
    "## Python numbers\n",
    "\n",
    "There are two kinds of numbers: `float` and `int` (floating-point numbers and integers).\n",
    "\n",
    "Floating-point numbers are decimals. Any number with a decimal place (e.g. `1.0` is a `float`)\n",
    "\n",
    "Integer numbers are whole numbers (e.g. `1230` is an `int`). Integers cannot have a decimal point. If they do, then they are a float.\n",
    "\n",
    "Any number in quotation marks, e.g. `\"123.2\"` is no longer a number. It is a string or `str`."
   ]
  },
  {
   "cell_type": "code",
   "execution_count": null,
   "id": "81191104-a698-46e1-aa55-807b2f1a4d92",
   "metadata": {},
   "outputs": [],
   "source": []
  },
  {
   "cell_type": "markdown",
   "id": "b898e8db-df49-4c9e-a2ba-276b269aa0d3",
   "metadata": {},
   "source": [
    "### Python strings\n",
    "\n",
    "Text in Python (and other programming languages) are called \"strings\" (i.e. a \"string\" of characters). Strings are called `str` in Python.\n",
    "\n",
    "Strings are created by putting anything in quotation marks:\n",
    "\n",
    "```python\n",
    "string_a = \"cat\"\n",
    "string_b = 'cat' # Either single or double quotes are fine\n",
    "```\n",
    "\n",
    "Strings can be anything that can be encoded in [Unicode](https://unicode-table.com/en/):\n",
    "```python\n",
    "string_c = \"1 bat + 24 hats = ... poetry\"\n",
    "string_d = '😍ᱣ⅗⻆'\n"
   ]
  },
  {
   "cell_type": "code",
   "execution_count": null,
   "id": "39f9edc1-da02-485b-b846-31738f88fe79",
   "metadata": {},
   "outputs": [],
   "source": []
  },
  {
   "cell_type": "markdown",
   "id": "46cc46ca-64c1-43d8-92ca-c1da543eca9e",
   "metadata": {},
   "source": [
    "### Python comments\n",
    "\n",
    "```python\n",
    "# Use the \"octothorpe\" (or \"hash\") symbol\n",
    "# to ensure that any code after it\n",
    "# does not run\n",
    "# e.g. \n",
    "# 1 + 4\n",
    "```"
   ]
  },
  {
   "cell_type": "code",
   "execution_count": null,
   "id": "6a6a7c3a-5370-41ac-bc24-3b23a2087d1e",
   "metadata": {},
   "outputs": [],
   "source": []
  },
  {
   "cell_type": "markdown",
   "id": "45ec9e42-4f38-4642-b34c-862cd1eaaca9",
   "metadata": {},
   "source": [
    "## _Calling_ a Python function\n",
    "\n",
    "Python features several built-in _functions_. Functions are pre-written pieces of code that you can execute as you may need them. \n",
    "\n",
    "Functions are _identified_ by their name, e.g. `print`, `help`, `min`, `max`\n",
    "\n",
    "Functions are **called** by putting parentheses, `()` after their name, e.g. `print()`, `help()`, `min()`, `max()`. Calling a function is the same as _executing_ a function.\n",
    "\n",
    "In coding, parentheses are often called \"parens\" (because it's less to type).\n",
    "\n",
    "You _pass arguments_ to a function you are calling by adding them between the parens, e.g. `print(4 + 3)`, `help(print)`, `min([4, 2, 7])`, `max([4, 2, 7])`. \n",
    "\n",
    "Arguments are separated by commas (e.g. `print(2, 3)`).\n",
    "\n",
    "Argument can also be expressions that evaluate to a single value (e.g. `print(4 + 2)`)."
   ]
  },
  {
   "cell_type": "code",
   "execution_count": null,
   "id": "93d46e94-9a2e-4ddf-b7be-e0103cb47dbb",
   "metadata": {},
   "outputs": [],
   "source": []
  }
 ],
 "metadata": {
  "kernelspec": {
   "display_name": "Python 3 (ipykernel)",
   "language": "python",
   "name": "python3"
  },
  "language_info": {
   "codemirror_mode": {
    "name": "ipython",
    "version": 3
   },
   "file_extension": ".py",
   "mimetype": "text/x-python",
   "name": "python",
   "nbconvert_exporter": "python",
   "pygments_lexer": "ipython3",
   "version": "3.8.12"
  }
 },
 "nbformat": 4,
 "nbformat_minor": 5
}
